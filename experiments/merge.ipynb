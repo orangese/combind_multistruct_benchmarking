{
 "cells": [
  {
   "cell_type": "markdown",
   "metadata": {},
   "source": [
    "Purpose of this notebook, is to take all the docked data and the aligned files and the ligand information and create one large dataframe/csv. other analyisis can be done seperately. \n"
   ]
  },
  {
   "cell_type": "code",
   "execution_count": 14,
   "metadata": {},
   "outputs": [],
   "source": [
    "## import os\n",
    "import numpy as np\n",
    "import matplotlib.pyplot as plt\n",
    "%matplotlib inline\n",
    "import pandas as pd\n",
    "# from schrodinger import structure\n",
    "# from schrodinger.structutils import rmsd\n",
    "# from schrodinger.structutils import structalign\n",
    "# from schrodinger.structutils import transform \n",
    "# from schrodinger.structutils import sitealign\n",
    "\n",
    "# from schrodinger.structutils import analyze\n",
    "import re\n",
    "# from scipy.spatial import distance\n",
    "import os\n",
    "import glob\n",
    "# from scipy import stats\n"
   ]
  },
  {
   "cell_type": "code",
   "execution_count": 15,
   "metadata": {},
   "outputs": [],
   "source": [
    "#UPDATE THESE PATHS!\n",
    "oak_dir = '/Users/ryan/sherlock_oak/'\n",
    "data_dir = oak_dir+ \"projects/ligand-docking/modeled_structures/dock_min_exp/\"\n",
    "\n",
    "output_path = 'results_af_dock_min_exp.csv'\n",
    "\n",
    "mcss_types_file = '/Users/ryan/sherlock_home/combind_multistruct_benchmarking/features/mcss16.typ'\n",
    "SCHRODINGER_dir = ' /opt/schrodinger/suites2022-4/'\n",
    "\n",
    "# gpcr_db = oak_dir+ \"projects/ligand-docking/modeled_structures/scripts/gpcr_db_set.csv\""
   ]
  },
  {
   "cell_type": "markdown",
   "metadata": {},
   "source": [
    "code to use GPCRDB commented out to be more useful for other datasets, but is probably useful for GPCR"
   ]
  },
  {
   "cell_type": "code",
   "execution_count": 16,
   "metadata": {},
   "outputs": [],
   "source": [
    "# db = pd.read_csv(gpcr_db)\n",
    "# db['protein']= db['Unnamed: 1']\n",
    "# db['struct_name']=db['Unnamed: 7'].apply(lambda x: x if'+' not in str(x) else '6E59' )\n",
    "# db[db['struct_name']=='6E59']\n",
    "# len(db[db['Unnamed: 4']!= \"C (Glutamate)\"]['Unnamed: 1'].unique())\n",
    "# len(db[db['Unnamed: 4']!= \"C (Glutamate)\"]['Unnamed: 1'].unique())\n",
    "\n",
    "#also for GPCRDB\n",
    "def create_structs_list(protein_db):\n",
    "    structs = list(protein_db['struct_name'].sort_values())\n",
    "    if protein == 'MTR1B':\n",
    "        structs.append('AF_6ME7')\n",
    "        structs.append('prime_6ME7')\n",
    "        structs.append('Gpcrdb_active_6ME6')\n",
    "        structs.append(\"Gpcrdb_inactive_6ME6\")\n",
    "\n",
    "    else:\n",
    "        structs.append(\"AF_\"+structs[0])\n",
    "        structs.append(\"prime_\"+structs[0])\n",
    "        structs.append('Gpcrdb_active_'+structs[0])\n",
    "        structs.append('Gpcrdb_inactive_'+structs[0])\n",
    "\n",
    "    return structs\n",
    "\n",
    "def create_structs_list(path):\n",
    "    paths = glob.glob(path+ '/structures/raw/*_prot.mae')\n",
    "    structs = [l.split(\"/\")[-1].split('_prot.')[0] for l in paths]\n",
    "    return structs"
   ]
  },
  {
   "cell_type": "markdown",
   "metadata": {},
   "source": [
    "function to parse RMSD calculated files:"
   ]
  },
  {
   "cell_type": "code",
   "execution_count": 17,
   "metadata": {},
   "outputs": [],
   "source": [
    "# def parse_rms(rms):\n",
    "#     m = re.match(\"(.*\\n)+(RMSD: )(\\d+.\\d+)(.*)\",rms[1])\n",
    "#     if m:\n",
    "#         return float(m.groups()[2])\n",
    "#     else:\n",
    "#         print('failed')\n",
    "#         return None"
   ]
  },
  {
   "cell_type": "code",
   "execution_count": null,
   "metadata": {},
   "outputs": [],
   "source": []
  },
  {
   "cell_type": "code",
   "execution_count": 18,
   "metadata": {},
   "outputs": [
    {
     "name": "stdout",
     "output_type": "stream",
     "text": [
      "okay here\n"
     ]
    }
   ],
   "source": [
    "#we are going to omit these later:\n",
    "class_C_proteins =  ['GABR2','CASR', 'GRM2']\n",
    "skip_no_double_lig = ['']\n",
    "print(\"okay here\")"
   ]
  },
  {
   "cell_type": "code",
   "execution_count": 19,
   "metadata": {},
   "outputs": [
    {
     "name": "stderr",
     "output_type": "stream",
     "text": [
      "  5%|██████████▋                                                                                                                                                                                                          | 1/20 [00:00<00:04,  4.68it/s]"
     ]
    },
    {
     "name": "stdout",
     "output_type": "stream",
     "text": [
      "['AF_6RZ4', '6RZ5', '6RZ4']\n"
     ]
    },
    {
     "name": "stderr",
     "output_type": "stream",
     "text": [
      "\r",
      " 10%|█████████████████████▎                                                                                                                                                                                               | 2/20 [00:00<00:04,  3.63it/s]"
     ]
    },
    {
     "name": "stdout",
     "output_type": "stream",
     "text": [
      "['AF_6AK3', '6AK3', '6M9T']\n"
     ]
    },
    {
     "name": "stderr",
     "output_type": "stream",
     "text": [
      "\r",
      " 15%|███████████████████████████████▉                                                                                                                                                                                     | 3/20 [00:00<00:04,  3.69it/s]"
     ]
    },
    {
     "name": "stdout",
     "output_type": "stream",
     "text": [
      "['AF_6RNK', '6Z10', '6RNK']\n",
      "['6D27', '6D26', 'AF_6D26']\n"
     ]
    },
    {
     "name": "stderr",
     "output_type": "stream",
     "text": [
      "\r",
      " 20%|██████████████████████████████████████████▌                                                                                                                                                                          | 4/20 [00:01<00:04,  3.38it/s]"
     ]
    },
    {
     "name": "stdout",
     "output_type": "stream",
     "text": [
      "['7CRH', '7LJC', '7CKZ', 'AF_7CKW', '7JVQ', '7CKW', '7JOZ', '7JVP', '7CKY', '7CKX', '7JV5', '7LJD']\n"
     ]
    },
    {
     "name": "stderr",
     "output_type": "stream",
     "text": [
      "\r",
      " 25%|█████████████████████████████████████████████████████▎                                                                                                                                                               | 5/20 [00:02<00:07,  1.96it/s]"
     ]
    },
    {
     "name": "stdout",
     "output_type": "stream",
     "text": [
      "['5ZKQ', 'AF_5ZKP', '5ZKP']\n"
     ]
    },
    {
     "name": "stderr",
     "output_type": "stream",
     "text": [
      " 35%|██████████████████████████████████████████████████████████████████████████▌                                                                                                                                          | 7/20 [00:02<00:04,  2.68it/s]"
     ]
    },
    {
     "name": "stdout",
     "output_type": "stream",
     "text": [
      "['7D76', '7D77', 'AF_7D76']\n",
      "['6RZ8', '6RZ7', '6RZ6', '6RZ9', 'AF_6RZ6']\n"
     ]
    },
    {
     "name": "stderr",
     "output_type": "stream",
     "text": [
      " 50%|██████████████████████████████████████████████████████████████████████████████████████████████████████████                                                                                                          | 10/20 [00:03<00:02,  3.69it/s]"
     ]
    },
    {
     "name": "stdout",
     "output_type": "stream",
     "text": [
      "['AF_6KUX', '6KUX', '6KUY']\n"
     ]
    },
    {
     "name": "stderr",
     "output_type": "stream",
     "text": [
      "\r",
      " 55%|████████████████████████████████████████████████████████████████████████████████████████████████████████████████████▌                                                                                               | 11/20 [00:03<00:02,  3.76it/s]"
     ]
    },
    {
     "name": "stdout",
     "output_type": "stream",
     "text": [
      "['6IIV', '6IIU', 'AF_6IIU']\n"
     ]
    },
    {
     "name": "stderr",
     "output_type": "stream",
     "text": [
      "\r",
      " 60%|███████████████████████████████████████████████████████████████████████████████████████████████████████████████████████████████▏                                                                                    | 12/20 [00:03<00:02,  3.86it/s]"
     ]
    },
    {
     "name": "stdout",
     "output_type": "stream",
     "text": [
      "['7D7M', '5YWY', '5YHL', 'AF_5YHL']\n",
      "['AF_6ME2', '6ME4', '6PS8', '6ME3', '6ME2', '6ME5']\n"
     ]
    },
    {
     "name": "stderr",
     "output_type": "stream",
     "text": [
      "\r",
      " 65%|█████████████████████████████████████████████████████████████████████████████████████████████████████████████████████████████████████████▊                                                                          | 13/20 [00:04<00:02,  3.25it/s]"
     ]
    },
    {
     "name": "stdout",
     "output_type": "stream",
     "text": [
      "['AF_6A93', '6WHA', '6WH4', '6WGT', '6A94', '6A93']\n"
     ]
    },
    {
     "name": "stderr",
     "output_type": "stream",
     "text": [
      "\r",
      " 70%|████████████████████████████████████████████████████████████████████████████████████████████████████████████████████████████████████████████████████▍                                                               | 14/20 [00:04<00:02,  2.97it/s]"
     ]
    },
    {
     "name": "stdout",
     "output_type": "stream",
     "text": [
      "['AF_5ZTY', '5ZTY', '6PT0', '6KPC', '6KPF']\n"
     ]
    },
    {
     "name": "stderr",
     "output_type": "stream",
     "text": [
      "\r",
      " 75%|███████████████████████████████████████████████████████████████████████████████████████████████████████████████████████████████████████████████████████████████                                                     | 15/20 [00:04<00:01,  2.89it/s]"
     ]
    },
    {
     "name": "stdout",
     "output_type": "stream",
     "text": [
      "['6ME6', '6ME7', '6ME9', 'AF_6ME7', '6ME8']\n"
     ]
    },
    {
     "name": "stderr",
     "output_type": "stream",
     "text": [
      "\r",
      " 80%|█████████████████████████████████████████████████████████████████████████████████████████████████████████████████████████████████████████████████████████████████████████▌                                          | 16/20 [00:05<00:01,  2.81it/s]"
     ]
    },
    {
     "name": "stdout",
     "output_type": "stream",
     "text": [
      "['7E2Z', '7E2Y', 'AF_7E2Y']\n"
     ]
    },
    {
     "name": "stderr",
     "output_type": "stream",
     "text": [
      "\r",
      " 85%|████████████████████████████████████████████████████████████████████████████████████████████████████████████████████████████████████████████████████████████████████████████████████▏                               | 17/20 [00:05<00:00,  3.01it/s]"
     ]
    },
    {
     "name": "stdout",
     "output_type": "stream",
     "text": [
      "['6E59', '6J21', '6HLP', '6J20', 'AF_6E59', '6HLL', '6HLO']\n",
      "no rmsd file6E59_lig-to-AF_6E59\n",
      "NK1R/docking/6E59_lig-to-AF_6E59/6E59_lig-to-AF_6E59_pv_rmsd_to.npy\n"
     ]
    },
    {
     "name": "stderr",
     "output_type": "stream",
     "text": [
      " 95%|█████████████████████████████████████████████████████████████████████████████████████████████████████████████████████████████████████████████████████████████████████████████████████████████████████████▍          | 19/20 [00:06<00:00,  2.92it/s]"
     ]
    },
    {
     "name": "stdout",
     "output_type": "stream",
     "text": [
      "['6K42', '6K41', 'AF_6K41']\n",
      "['7CX4', '7CX2', '7CX3', 'AF_7CX2']\n"
     ]
    },
    {
     "name": "stderr",
     "output_type": "stream",
     "text": [
      "100%|████████████████████████████████████████████████████████████████████████████████████████████████████████████████████████████████████████████████████████████████████████████████████████████████████████████████████| 20/20 [00:06<00:00,  3.04it/s]"
     ]
    },
    {
     "name": "stdout",
     "output_type": "stream",
     "text": [
      "{('CLTR1', '6RZ5_lig-to-AF_6RZ4'): 5.0651102037855775, ('CLTR1', '6RZ4_lig-to-AF_6RZ4'): 7.277577653638875, ('PE2R3', '6AK3_lig-to-AF_6AK3'): 1.3222268421990981, ('PE2R3', '6M9T_lig-to-AF_6AK3'): 1.3585363570037865, ('SUCR1', '6Z10_lig-to-AF_6RNK'): 9.63854723491736, ('SUCR1', '6RNK_lig-to-AF_6RNK'): 7.633896951214406, ('PD2R2', '6D27_lig-to-AF_6D26'): 1.9109254286880808, ('PD2R2', '6D26_lig-to-AF_6D26'): 2.5252384438038047, ('DRD1', '7CRH_lig-to-AF_7CKW'): 1.189842725191042, ('DRD1', '7LJC_lig-to-AF_7CKW'): 0.715066569416966, ('DRD1', '7CKZ_lig-to-AF_7CKW'): 0.5314283682415781, ('DRD1', '7JVQ_lig-to-AF_7CKW'): 0.5543265542398724, ('DRD1', '7CKW_lig-to-AF_7CKW'): 1.4971764588029908, ('DRD1', '7JOZ_lig-to-AF_7CKW'): 2.285363023343468, ('DRD1', '7JVP_lig-to-AF_7CKW'): 0.9193042179908036, ('DRD1', '7CKY_lig-to-AF_7CKW'): 7.5848978956365, ('DRD1', '7CKX_lig-to-AF_7CKW'): 0.6615538928648735, ('DRD1', '7JV5_lig-to-AF_7CKW'): 0.9878893433439783, ('DRD1', '7LJD_lig-to-AF_7CKW'): 0.6023936280243719, ('PTAFR', '5ZKQ_lig-to-AF_5ZKP'): 2.3632489894362063, ('PTAFR', '5ZKP_lig-to-AF_5ZKP'): 5.011118144443232, ('AGRG3', '7D76_lig-to-AF_7D76'): 1.900521048588443, ('AGRG3', '7D77_lig-to-AF_7D76'): 0.9854603256879498, ('CLTR2', '6RZ8_lig-to-AF_6RZ6'): 12.606876148739795, ('CLTR2', '6RZ7_lig-to-AF_6RZ6'): 12.702986602257946, ('CLTR2', '6RZ6_lig-to-AF_6RZ6'): 12.558408449949292, ('CLTR2', '6RZ9_lig-to-AF_6RZ6'): 12.65708872308, ('ADA2A', '6KUX_lig-to-AF_6KUX'): 8.04106109543347, ('ADA2A', '6KUY_lig-to-AF_6KUX'): 4.128752419785855, ('TA2R', '6IIV_lig-to-AF_6IIU'): 1.0460514787683632, ('TA2R', '6IIU_lig-to-AF_6IIU'): 1.6936672594056537, ('PE2R4', '7D7M_lig-to-AF_5YHL'): 1.800224754045428, ('PE2R4', '5YWY_lig-to-AF_5YHL'): 1.667809657990164, ('PE2R4', '5YHL_lig-to-AF_5YHL'): 1.1115555865516429, ('MTR1A', '6ME4_lig-to-AF_6ME2'): 0.6663384403018819, ('MTR1A', '6PS8_lig-to-AF_6ME2'): 0.9188153433474753, ('MTR1A', '6ME3_lig-to-AF_6ME2'): 0.9044079266575935, ('MTR1A', '6ME2_lig-to-AF_6ME2'): 1.0269433522035696, ('MTR1A', '6ME5_lig-to-AF_6ME2'): 0.9811102491599896, ('5HT2A', '6WHA_lig-to-AF_6A93'): 4.012526970042623, ('5HT2A', '6WH4_lig-to-AF_6A93'): 4.871273333134645, ('5HT2A', '6WGT_lig-to-AF_6A93'): 0.9397898060807046, ('5HT2A', '6A94_lig-to-AF_6A93'): 0.8712635469068889, ('5HT2A', '6A93_lig-to-AF_6A93'): 3.8343766311777805, ('CNR2', '5ZTY_lig-to-AF_5ZTY'): 1.5747983650111546, ('CNR2', '6PT0_lig-to-AF_5ZTY'): 2.064478389403824, ('CNR2', '6KPC_lig-to-AF_5ZTY'): 0.6740900335142488, ('CNR2', '6KPF_lig-to-AF_5ZTY'): 0.648261613553084, ('MTR1B', '6ME6_lig-to-AF_6ME7'): 0.9953310802587484, ('MTR1B', '6ME7_lig-to-AF_6ME7'): 1.2423056078172616, ('MTR1B', '6ME9_lig-to-AF_6ME7'): 0.8372854594800917, ('MTR1B', '6ME8_lig-to-AF_6ME7'): 0.9864172180967542, ('5HT1A', '7E2Z_lig-to-AF_7E2Y'): 0.9189845335535141, ('5HT1A', '7E2Y_lig-to-AF_7E2Y'): 0.484607270729529, ('NK1R', '6J21_lig-to-AF_6E59'): 6.604141706307037, ('NK1R', '6HLP_lig-to-AF_6E59'): 5.8705501510781035, ('NK1R', '6J20_lig-to-AF_6E59'): 6.711228960048729, ('NK1R', '6HLL_lig-to-AF_6E59'): 1.0113044352986078, ('NK1R', '6HLO_lig-to-AF_6E59'): 6.730703082022481, ('ADA2B', '6K42_lig-to-AF_6K41'): 17.151153970583344, ('ADA2B', '6K41_lig-to-AF_6K41'): 6.9393735696881595, ('PE2R2', '7CX4_lig-to-AF_7CX2'): 11.181675033990528, ('PE2R2', '7CX2_lig-to-AF_7CX2'): 5.373276641826782, ('PE2R2', '7CX3_lig-to-AF_7CX2'): 18.539977601880043}\n",
      "{('CLTR1', '6RZ5_lig-to-AF_6RZ4'): 7.817527809361971, ('CLTR1', '6RZ4_lig-to-AF_6RZ4'): 8.412931617837232, ('PE2R3', '6AK3_lig-to-AF_6AK3'): 2.101554041712894, ('PE2R3', '6M9T_lig-to-AF_6AK3'): 2.343026783985203, ('SUCR1', '6Z10_lig-to-AF_6RNK'): 11.282105872217809, ('SUCR1', '6RNK_lig-to-AF_6RNK'): 11.358651564077386, ('PD2R2', '6D27_lig-to-AF_6D26'): 3.0086824223146476, ('PD2R2', '6D26_lig-to-AF_6D26'): 2.5252384438038047, ('DRD1', '7CRH_lig-to-AF_7CKW'): 1.189842725191042, ('DRD1', '7LJC_lig-to-AF_7CKW'): 0.9549616791643016, ('DRD1', '7CKZ_lig-to-AF_7CKW'): 1.139095430830578, ('DRD1', '7JVQ_lig-to-AF_7CKW'): 0.5543265542398724, ('DRD1', '7CKW_lig-to-AF_7CKW'): 1.7541503512753502, ('DRD1', '7JOZ_lig-to-AF_7CKW'): 8.176267670538582, ('DRD1', '7JVP_lig-to-AF_7CKW'): 0.934961455372993, ('DRD1', '7CKY_lig-to-AF_7CKW'): 7.911932347775867, ('DRD1', '7CKX_lig-to-AF_7CKW'): 1.0234913753713122, ('DRD1', '7JV5_lig-to-AF_7CKW'): 1.0098932938118523, ('DRD1', '7LJD_lig-to-AF_7CKW'): 1.0230156130313524, ('PTAFR', '5ZKQ_lig-to-AF_5ZKP'): 3.928536266308711, ('PTAFR', '5ZKP_lig-to-AF_5ZKP'): 8.193809696986253, ('AGRG3', '7D76_lig-to-AF_7D76'): 7.12917248972863, ('AGRG3', '7D77_lig-to-AF_7D76'): 3.923982705330267, ('CLTR2', '6RZ8_lig-to-AF_6RZ6'): 12.621433465159747, ('CLTR2', '6RZ7_lig-to-AF_6RZ6'): 12.702986602257946, ('CLTR2', '6RZ6_lig-to-AF_6RZ6'): 12.558408449949292, ('CLTR2', '6RZ9_lig-to-AF_6RZ6'): 12.685127925252338, ('ADA2A', '6KUX_lig-to-AF_6KUX'): 9.371948267968284, ('ADA2A', '6KUY_lig-to-AF_6KUX'): 10.616377051328183, ('TA2R', '6IIV_lig-to-AF_6IIU'): 1.2018475805415323, ('TA2R', '6IIU_lig-to-AF_6IIU'): 1.6936672594056537, ('PE2R4', '7D7M_lig-to-AF_5YHL'): nan, ('PE2R4', '5YWY_lig-to-AF_5YHL'): nan, ('PE2R4', '5YHL_lig-to-AF_5YHL'): nan, ('MTR1A', '6ME4_lig-to-AF_6ME2'): 1.0587053027665185, ('MTR1A', '6PS8_lig-to-AF_6ME2'): 1.0754172718121213, ('MTR1A', '6ME3_lig-to-AF_6ME2'): 1.0725636684305588, ('MTR1A', '6ME2_lig-to-AF_6ME2'): 1.0269433522035696, ('MTR1A', '6ME5_lig-to-AF_6ME2'): 1.2020445255620154, ('5HT2A', '6WHA_lig-to-AF_6A93'): 4.352286649868795, ('5HT2A', '6WH4_lig-to-AF_6A93'): 5.543879582291204, ('5HT2A', '6WGT_lig-to-AF_6A93'): 1.136424823128529, ('5HT2A', '6A94_lig-to-AF_6A93'): 0.8712635469068889, ('5HT2A', '6A93_lig-to-AF_6A93'): 3.8343766311777805, ('CNR2', '5ZTY_lig-to-AF_5ZTY'): 8.523916860618604, ('CNR2', '6PT0_lig-to-AF_5ZTY'): 8.213283158092313, ('CNR2', '6KPC_lig-to-AF_5ZTY'): 1.0312133536392105, ('CNR2', '6KPF_lig-to-AF_5ZTY'): 0.7008011646944292, ('MTR1B', '6ME6_lig-to-AF_6ME7'): 5.71024116592627, ('MTR1B', '6ME7_lig-to-AF_6ME7'): 5.866296292279613, ('MTR1B', '6ME9_lig-to-AF_6ME7'): 1.096532502354579, ('MTR1B', '6ME8_lig-to-AF_6ME7'): 5.672108997857347, ('5HT1A', '7E2Z_lig-to-AF_7E2Y'): 1.576468040201049, ('5HT1A', '7E2Y_lig-to-AF_7E2Y'): 1.1238252830615905, ('NK1R', '6J21_lig-to-AF_6E59'): 6.756565179253085, ('NK1R', '6HLP_lig-to-AF_6E59'): 7.6382768939922565, ('NK1R', '6J20_lig-to-AF_6E59'): 6.854830566123423, ('NK1R', '6HLL_lig-to-AF_6E59'): 5.052104155109195, ('NK1R', '6HLO_lig-to-AF_6E59'): 6.9111632085094055, ('ADA2B', '6K42_lig-to-AF_6K41'): 17.851979341178783, ('ADA2B', '6K41_lig-to-AF_6K41'): 7.715833886567668, ('PE2R2', '7CX4_lig-to-AF_7CX2'): 11.611939790760688, ('PE2R2', '7CX2_lig-to-AF_7CX2'): 5.595472511643614, ('PE2R2', '7CX3_lig-to-AF_7CX2'): 20.151932305245587}\n"
     ]
    },
    {
     "name": "stderr",
     "output_type": "stream",
     "text": [
      "\n"
     ]
    }
   ],
   "source": [
    "# combind\n",
    "from tqdm import tqdm\n",
    "\n",
    "#dictionaries with data:\n",
    "combind_rmsd_pairs={}\n",
    "glide_rmsd_pairs={}\n",
    "glide_rmsd_pairs_top_2={}\n",
    "glide_rmsd_pairs_top_3={}\n",
    "\n",
    "glide_rmsd_pairs_top_5={}\n",
    "glide_rmsd_pairs_top_10={}\n",
    "glide_rmsd_pairs_top_50={}\n",
    "glide_rmsd_pairs_top_100={}\n",
    "\n",
    "\n",
    "min_rmsd_pairs={}\n",
    "failed_combind_bool = False\n",
    "failed_before_dock = []\n",
    "failed_dock = []\n",
    "failed_combind=[]\n",
    "top_pose_id = 0\n",
    "# commented to avoid GPCRDB:\n",
    "# for protein in db['protein'].unique():\n",
    "proteins = []\n",
    "for proteinPath in tqdm(glob.glob(data_dir+\"*\")):\n",
    "    #skip the following class C:\n",
    "    protein = proteinPath.split(\"/\")[-1]\n",
    "\n",
    "    if protein in class_C_proteins or protein in skip_no_double_lig:\n",
    "        continue\n",
    "    if not os.path.exists(data_dir+protein):\n",
    "        print('where is this folder? '+ protein)\n",
    "        continue\n",
    "        \n",
    "#     protein_db = db[db['protein']==protein]\n",
    "    #GPCRDB paths:\n",
    "#     structs = create_structs_list(protein_db)\n",
    "    #Alt:\n",
    "    structs = create_structs_list(data_dir+protein)\n",
    "    if not len(structs) == 0:\n",
    "        proteins.append(protein)\n",
    "    \n",
    "    for struct in structs:\n",
    "#        ligs = structs  # FOR NON-GLOSA\n",
    "        ligs = list(filter(lambda x: \"old\" not in x and \"DS_STORE\" not in x, os.listdir(data_dir+protein+\"/structures/aligned/\")))\n",
    "        print(ligs)\n",
    "        for ligand_s in ligs:            \n",
    "            if \"_\" in ligand_s:\n",
    "#                 print (ligand_s)\n",
    "                continue\n",
    "            pair = ligand_s+\"_lig-to-\"+struct\n",
    "            if not os.path.exists(data_dir+protein+'/docking/'+pair+\"/\"+pair+\".log\"):\n",
    "                failed_before_dock.append((protein, pair))\n",
    "                print(\"failed before dock: \", (protein,pair))\n",
    "                continue\n",
    "            if not os.path.exists(data_dir+protein+'/docking/'+pair+\"/\"+pair+\"_pv.maegz\"):\n",
    "                failed_dock.append((protein,pair))   \n",
    "                #append 200 so that it's definitely bad!\n",
    "                combind_rmsd_pairs[(protein,pair)] = 200\n",
    "                glide_rmsd_pairs[(protein,pair)]= 200\n",
    "                continue\n",
    "            failed_combind_bool = False\n",
    "            if not os.path.exists(data_dir+protein+'/out_'+struct+'.csv'):\n",
    "                failed_combind.append((protein, struct))\n",
    "                poses = None\n",
    "                failed_combind_bool = True\n",
    "                top_pose_id = 0\n",
    "            else: \n",
    "                poses =pd.read_csv(data_dir+protein+'/out_'+struct+'.csv')\n",
    "                top_pose_id =  int(poses[poses['ID']==pair]['POSE'])\n",
    "            if not os.path.exists(data_dir+protein+'/docking/'+pair+\"/\"+pair+\"_pv_rmsd_to.npy\"):\n",
    "                print('no rmsd file' + pair)\n",
    "                print(protein+'/docking/'+pair+\"/\"+pair+\"_pv_rmsd_to.npy\")\n",
    "                continue\n",
    "#             else:\n",
    "#                 print('h')\n",
    "            rmsds = np.load(data_dir+protein+'/docking/'+pair+\"/\"+pair+\"_pv_rmsd_to.npy\")\n",
    "#             print(rmsds)\n",
    "            if failed_combind_bool:\n",
    "                combind_rmsd_pairs[(protein,pair)] = np.nan\n",
    "            else:\n",
    "                combind_rmsd_pairs[(protein,pair)] = rmsds[top_pose_id]\n",
    "            glide_rmsd_pairs[(protein,pair)]=rmsds[0]\n",
    "            rmsds_len = len(rmsds)\n",
    "            glide_rmsd_pairs_top_2[(protein,pair)]=min(rmsds[0:min(2, rmsds_len)]) \n",
    "            glide_rmsd_pairs_top_3[(protein,pair)]=min(rmsds[0:min(3, rmsds_len)]) \n",
    "            glide_rmsd_pairs_top_5[(protein,pair)]=min(rmsds[0:min(5, rmsds_len)]) \n",
    "            glide_rmsd_pairs_top_10[(protein,pair)]=min(rmsds[0:min(10, rmsds_len)])\n",
    "            glide_rmsd_pairs_top_50[(protein,pair)]=min(rmsds[0:min(50, rmsds_len)])\n",
    "            glide_rmsd_pairs_top_100[(protein,pair)]=min(rmsds[0:min(100, rmsds_len)])\n",
    "            min_rmsd_pairs[(protein,pair)]=min(rmsds)\n",
    "print(min_rmsd_pairs)\n",
    "print(combind_rmsd_pairs)"
   ]
  },
  {
   "cell_type": "code",
   "execution_count": 20,
   "metadata": {
    "scrolled": true
   },
   "outputs": [
    {
     "name": "stderr",
     "output_type": "stream",
     "text": [
      " 84%|██████████████████████████████████████████████████████████████████████████████████████████████████████████████████████████████████████████████████████████████████████████████████▌                                 | 16/19 [00:03<00:00,  4.76it/s]"
     ]
    },
    {
     "name": "stdout",
     "output_type": "stream",
     "text": [
      "[]\n",
      "issue with pair 6E59_lig-to-AF_6E59\n",
      "NK1R\n"
     ]
    },
    {
     "name": "stderr",
     "output_type": "stream",
     "text": [
      "100%|████████████████████████████████████████████████████████████████████████████████████████████████████████████████████████████████████████████████████████████████████████████████████████████████████████████████████| 19/19 [00:04<00:00,  4.51it/s]\n"
     ]
    }
   ],
   "source": [
    "import glob\n",
    "structalign_dict = {}\n",
    "# data_dir2= oak_dir+ \"projects/ligand-docking/modeled_structures/structalign_copy_min/\"\n",
    "#also Relies on GPCRDB here\n",
    "# for protein in db['protein'].unique():\n",
    "for protein in tqdm(proteins): \n",
    "    #skip the following class C:\n",
    "    if protein in class_C_proteins or protein in skip_no_double_lig:\n",
    "        continue\n",
    "    if not os.path.exists(data_dir+protein):\n",
    "        print('where is this folder? '+ protein)\n",
    "        continue\n",
    "    for alignment_prot in os.listdir(data_dir+protein+\"/structures/aligned/\"):\n",
    "        lig_name = alignment_prot+\"_lig\"\n",
    "#         print (alignment_prot)\n",
    "        for output_file in glob.glob(data_dir+protein+\"/structures/aligned/\"+alignment_prot+\"/*to*.out\"):\n",
    "            protein_other = output_file.split('/')[-1].split('_to_')[-1][:-4]\n",
    "            pair = lig_name+'-to-'+protein_other\n",
    "            if not os.path.exists(data_dir+protein+'/docking/'+pair):\n",
    "                continue\n",
    "\n",
    "            file_align = open(output_file)\n",
    "            lines = file_align.readlines()\n",
    "            if len(lines)<1:\n",
    "                print(lines)\n",
    "                print('issue with pair '+pair)\n",
    "                print(protein)\n",
    "\n",
    "                continue\n",
    "            last_line = lines[-1]\n",
    "\n",
    "            rmsd = last_line.split()\n",
    "\n",
    "            if protein_other == alignment_prot:\n",
    "                structalign_dict[(protein,pair)]=0.0\n",
    "                continue\n",
    "            if len(rmsd)<3 or rmsd[0]!=\"RMSD:\":\n",
    "                print('issue with'+pair)\n",
    "                print(protein)\n",
    "                continue\n",
    "            rmsd = float(rmsd[-2])\n",
    "            structalign_dict[(protein,pair)]=rmsd"
   ]
  },
  {
   "cell_type": "code",
   "execution_count": 21,
   "metadata": {},
   "outputs": [],
   "source": [
    "dfs = []\n",
    "for k in [(glide_rmsd_pairs, 'glide_rmsd'), (glide_rmsd_pairs_top_2, 'glide_rmsd_top_2'),(glide_rmsd_pairs_top_3, 'glide_rmsd_top_3'),(glide_rmsd_pairs_top_5, 'glide_rmsd_top_5'),(glide_rmsd_pairs_top_10, 'glide_rmsd_top_10'), (glide_rmsd_pairs_top_50, 'glide_rmsd_top_50'),(glide_rmsd_pairs_top_100, 'glide_rmsd_top_100'), (min_rmsd_pairs, 'min_pose_rmsd'), (structalign_dict, 'structalign_rmsd'), (combind_rmsd_pairs, 'combind_rmsd')]:\n",
    "    df = pd.DataFrame.from_dict(k[0], orient = 'index', columns = [k[1]])\n",
    "    # rmsd_df = rmsd_df.rename(columns = {rmsd_df.index:'pair_name'})\n",
    "    df['pair_name'] = df.index\n",
    "    dfs.append(df)\n",
    "rmsd_df = dfs[0].merge(dfs[1], on = 'pair_name', how = 'outer')\n",
    "for k in range(2, len(dfs)):\n",
    "    rmsd_df = rmsd_df.merge(dfs[k], on = 'pair_name', how = 'outer')\n",
    "rmsd_df['lig'] = rmsd_df['pair_name'].apply(lambda x: x[1].split('-to-')[0]) \n",
    "rmsd_df['struct'] = rmsd_df['pair_name'].apply(lambda x: x[1].split('-to-')[-1]) \n",
    "rmsd_df['protein'] = rmsd_df['pair_name'].apply(lambda x: x[0])\n",
    "rmsd_df['pair']= rmsd_df['pair_name'].apply(lambda x: x[1])\n",
    "rmsd_df.index = rmsd_df['pair_name']\n"
   ]
  },
  {
   "cell_type": "code",
   "execution_count": 22,
   "metadata": {},
   "outputs": [
    {
     "name": "stdout",
     "output_type": "stream",
     "text": [
      "total no. pairs\n",
      "64\n"
     ]
    },
    {
     "ename": "ZeroDivisionError",
     "evalue": "division by zero",
     "output_type": "error",
     "traceback": [
      "\u001b[0;31m---------------------------------------------------------------------------\u001b[0m",
      "\u001b[0;31mZeroDivisionError\u001b[0m                         Traceback (most recent call last)",
      "Input \u001b[0;32mIn [22]\u001b[0m, in \u001b[0;36m<cell line: 8>\u001b[0;34m()\u001b[0m\n\u001b[1;32m     23\u001b[0m    total_failed_before_dock \u001b[38;5;241m=\u001b[39m \u001b[38;5;28mlen\u001b[39m(failed_before_dock)\n\u001b[1;32m     24\u001b[0m    total_failed_before_dock_af \u001b[38;5;241m=\u001b[39m \u001b[38;5;28mlen\u001b[39m([struct \u001b[38;5;28;01mfor\u001b[39;00m prot, struct \u001b[38;5;129;01min\u001b[39;00m failed_before_dock \u001b[38;5;28;01mif\u001b[39;00m method \u001b[38;5;129;01min\u001b[39;00m struct])\n\u001b[0;32m---> 25\u001b[0m    result\u001b[38;5;241m.\u001b[39mappend(\u001b[43mtotal_failed_before_dock_af\u001b[49m\u001b[43m \u001b[49m\u001b[38;5;241;43m/\u001b[39;49m\u001b[43m \u001b[49m\u001b[43mtotal_failed_before_dock\u001b[49m)\n\u001b[1;32m     27\u001b[0m \u001b[38;5;66;03m#   print(f\"\\n% failed {method} dock\")\u001b[39;00m\n\u001b[1;32m     28\u001b[0m    total_failed_dock \u001b[38;5;241m=\u001b[39m \u001b[38;5;28mlen\u001b[39m(failed_dock)\n",
      "\u001b[0;31mZeroDivisionError\u001b[0m: division by zero"
     ]
    }
   ],
   "source": [
    "print(\"total no. pairs\")\n",
    "print(len(glide_rmsd_pairs))\n",
    "from tabulate import tabulate\n",
    "\n",
    "methods = [\"AF\", \"Gpcrdb_inactive\", \"Gpcrdb_active\", \"prime\"]\n",
    "table = {}\n",
    "\n",
    "for method in methods:\n",
    "#    print(f\"\\n% total {method}\")\n",
    "    pmethod = method\n",
    "    result = []\n",
    "\n",
    "    total = len(combind_rmsd_pairs)\n",
    "    total_af = len([struct for prot, struct in combind_rmsd_pairs if method in struct])\n",
    "    result.append(total_af / total)\n",
    "\n",
    "#    print(f\"\\n% failed {method} before combind\")\n",
    "    total_failed_combind = len(failed_combind)\n",
    "    total_failed_combind_af = len([struct for prot, struct in failed_combind if method in struct])\n",
    "    result.append(total_failed_combind_af / total_failed_combind)\n",
    "\n",
    "#    print(f\"\\n% failed {method} before dock\")\n",
    "    total_failed_before_dock = len(failed_before_dock)\n",
    "    total_failed_before_dock_af = len([struct for prot, struct in failed_before_dock if method in struct])\n",
    "    result.append(total_failed_before_dock_af / total_failed_before_dock)\n",
    "\n",
    " #   print(f\"\\n% failed {method} dock\")\n",
    "    total_failed_dock = len(failed_dock)\n",
    "    total_failed_dock_af = len([struct for prot, struct in failed_dock if method in struct])\n",
    "    result.append(total_failed_dock_af / total_failed_dock)\n",
    "    \n",
    "    table[pmethod] = np.round(np.array(result) * 100, 2)\n",
    "\n",
    "comp_exp = np.zeros(len(next(iter(table.values()))))\n",
    "for method, vals in table.items():\n",
    "    for i, val in enumerate(vals):\n",
    "        comp_exp[i] += val\n",
    "table[\"experimental\"] = 100 - comp_exp\n",
    "\n",
    "print('ok')\n",
    "print(tabulate(table, headers=\"keys\", showindex=[\"% of total\", \"% of pre-combind fails\", \n",
    "                                                 \"% of pre-dock fails\", \"% of failed docks\"], tablefmt=\"pretty\"))"
   ]
  },
  {
   "cell_type": "code",
   "execution_count": 23,
   "metadata": {},
   "outputs": [],
   "source": [
    "#similarity mcss:\n",
    "import tempfile\n",
    "import subprocess\n",
    "import os\n",
    "\n",
    "from rdkit import Chem\n",
    "#SCHRODINGER_dir = '/opt/schrodinger2021-3/'\n",
    "#SCHRODINGER_dir = ' /opt/schrodinger/suites2022-3/'\n",
    "def compute_mcss(smi1, smi2, mcss_types_file):\n",
    "    \"\"\"\n",
    "    Compute smarts patterns for mcss(s) between two structures.\n",
    "    \"\"\"\n",
    "#     cmd = \"/share/software/user/restricted/schrodinger/2021-1/\n",
    "    cmd = SCHRODINGER_dir+\"utilities/canvasMCS -ismi {} -ocsv {} -stop 10 -atomtype C {}\"\n",
    "    with tempfile.TemporaryDirectory() as wd:\n",
    "        smi = wd+'/temp.smi'\n",
    "        csv = wd+'/temp.csv'\n",
    "\n",
    "        with open(smi, 'w') as fp:\n",
    "            fp.write(f'{smi1} st1\\n')\n",
    "            fp.write(f'{smi2} st2\\n')\n",
    "\n",
    "        r = subprocess.run(cmd.format(os.path.basename(smi), os.path.basename(csv),\n",
    "                                      os.path.abspath(mcss_types_file)),\n",
    "                           cwd=wd, shell=True, stderr=subprocess.PIPE)\n",
    "\n",
    "\n",
    "        # mcss can fail with memory usage error, generally when macrocycles\n",
    "        # are present. just skip such cases.\n",
    "        failed = 'memory usage' in str(r.stderr)\n",
    "        print(r.stderr)\n",
    "        if len(r.stderr) >2:\n",
    "            mcss = {'st1': ['C'], 'st2': ['C']}\n",
    "            return mcss\n",
    "#         print(r.stder)\n",
    "#         print(csv)\n",
    "        if not failed:\n",
    "            assert os.path.exists(csv)\n",
    "            mcss = {'st1': [], 'st2': []}\n",
    "            with open(csv) as fp:\n",
    "                fp.readline()\n",
    "                for line in fp:\n",
    "                    lig = line.strip().split(',')[1]\n",
    "                    smarts = line.strip().split(',')[-1]\n",
    "                    mcss[lig] += [smarts]\n",
    "        else:\n",
    "            print('mcss failed')\n",
    "            mcss = {'st1': ['C'], 'st2': ['C']}\n",
    "    return mcss\n",
    "\n",
    "def get_mcss_size(smi1, smi2, mcss_types_file):\n",
    "\n",
    "    mcss = compute_mcss(smi1, smi2, mcss_types_file)\n",
    "#     print(mcss)\n",
    "    \n",
    "    mcss = mcss['st1'][0].split(',')[0]\n",
    "    mcss_st = Chem.MolFromSmiles(mcss, sanitize=False)\n",
    "    n_mcss_atoms = mcss_st.GetNumAtoms()\n",
    "#     print(smi1)\n",
    "#     print(smi2)\n",
    "    try:\n",
    "        n_atoms1 = Chem.MolFromSmiles(smi1).GetNumAtoms()\n",
    "        n_atoms2 = Chem.MolFromSmiles(smi2).GetNumAtoms()\n",
    "    except:\n",
    "        return np.nan\n",
    "    return n_mcss_atoms / min(n_atoms1, n_atoms2)"
   ]
  },
  {
   "cell_type": "code",
   "execution_count": 24,
   "metadata": {},
   "outputs": [
    {
     "name": "stdout",
     "output_type": "stream",
     "text": [
      "starting mcss calculations...\n",
      "done\n"
     ]
    }
   ],
   "source": [
    "# tanimoto coefficients\n",
    "print(\"starting mcss calculations...\")\n",
    "from rdkit import Chem\n",
    "from rdkit import DataStructs\n",
    "from rdkit.Chem.Fingerprints import FingerprintMols\n",
    "from rdkit import DataStructs\n",
    "from rdkit.Chem import AllChem\n",
    "chem_list =[]\n",
    "# cs = []\n",
    "for protein in proteins:\n",
    "    #skip the following class C:\n",
    "    if protein in ['GABR2','CASR']:\n",
    "        continue\n",
    "        \n",
    "#     if protein =='PE2R3':\n",
    "#         continue\n",
    "#     af_temp=[]\n",
    "#     other_temp = []db2 =\n",
    "#     self_temp = []\n",
    "#     print(protein)\n",
    "    if not os.path.exists(data_dir+protein):\n",
    "        continue\n",
    "# #     for pair in os.listdir(data_dir+protein+\"/docking/\"):\n",
    "    if not os.path.exists(data_dir+protein):\n",
    "        continue\n",
    "# #     for pair in os.listdir(data_dir+protein+\"/docking/\"):\n",
    "#     protein_db = db[db['protein']==protein]\n",
    "#     structs = list(protein_db['struct_name'].sort_values())\n",
    "    structs = []\n",
    "    c = pd.read_csv(data_dir+protein+'/raw/'+protein+'_native.smi', sep = ' ')\n",
    "#     cs.append[c]\n",
    "#     print(protein)\n",
    "#     print(protein)\n",
    "    def getMorganFP(x):\n",
    "        try :\n",
    "            val = AllChem.GetMorganFingerprintAsBitVect(x,3,128)\n",
    "            return val\n",
    "        except:\n",
    "            return np.nan\n",
    "\n",
    "    c = c[c[\"ID\"] != \"6M9T_lig_old\"]\n",
    "    c['mol']= c['SMILES'].apply(lambda x: Chem.MolFromSmiles(x))\n",
    "    c['mol_fp'] = c['mol'].apply(lambda x: getMorganFP(x))\n",
    "    c['struct_name']=c['ID'].apply(lambda x: \"AF_\" + x.split('_')[0])\n",
    "\n",
    "    chem_list.append(c)\n",
    "#     print(chem_list)\n",
    "\n",
    "# print(chem_list)\n",
    "db = rmsd_df[['struct','lig']]\n",
    "#print(db)\n",
    "#print(pd.concat(chem_list))\n",
    "db2 = db.merge(pd.concat(chem_list),left_on = 'struct', right_on = 'struct_name',how = \"left\")\n",
    "#print(db2)\n",
    "# print(db2)\n",
    "def get_fp(y):\n",
    "    if 'AF_' in y:\n",
    "#         print(y.split('_')[-1])\n",
    "        if len(db2[db2['struct_name']==y.split('_')[-1]]['mol_fp'])<1:\n",
    "            return np.nan\n",
    "        return db2[db2['struct_name']==y.split('_')[-1]]['mol_fp'].iloc[0]\n",
    "    if 'prime_' in y:\n",
    "        return db2[db2['struct_name']==y.split('_')[-1]]['mol_fp'].iloc[0]\n",
    "    if 'Gpcrdb_' in y:\n",
    "#         print (\"ho\")\n",
    "        return db2[db2['struct_name']==y.split('_')[-1]]['mol_fp'].iloc[0]\n",
    "    \n",
    "    out = db2[db2['struct_name']==y]['mol_fp'].iloc[0]\n",
    "#     print(out)\n",
    "    return out\n",
    "def getSimilarity(pair):\n",
    "    f1 = get_fp(pair.split('_lig')[0])\n",
    "    f2 = get_fp(pair.split('-to-')[-1])\n",
    "    if np.isnan(f1).any() or np.isnan(f2).any():\n",
    "        return np.nan\n",
    "#     return DataStructs.DiceSimilarity(f1,f2)\n",
    "    return DataStructs.FingerprintSimilarity(f1, f2, metric = DataStructs.TanimotoSimilarity)\n",
    "\n",
    "def get_SMILE(y):\n",
    "    if 'AF_' in y:\n",
    "#         print(y.split('_')[-1])\n",
    "        if len(db2[db2['struct_name']==y.split('_')[-1]]['SMILES'])<1:\n",
    "            return None\n",
    "        return db2[db2['struct_name']==y.split('_')[-1]]['SMILES'].iloc[0]\n",
    "    if 'prime_' in y:\n",
    "        return db2[db2['struct_name']==y.split('_')[-1]]['SMILES'].iloc[0]\n",
    "    \n",
    "    if 'Gpcrdb_' in y:\n",
    "#         print (\"ho\")\n",
    "        return db2[db2['struct_name']==y.split('_')[-1]]['SMILES'].iloc[0]\n",
    "    \n",
    "    out = db2[db2['struct_name']==y]['SMILES'].iloc[0]\n",
    "    return out\n",
    "\n",
    "    \n",
    "def getMCSS(pair):\n",
    "    f1 = get_SMILE(\"AF_\" + pair.split('_lig')[0])\n",
    "    f2 = get_SMILE(pair.split('-to-')[-1])\n",
    "    if f1 is None or f2 is None:\n",
    "        return np.nan\n",
    "#     return DataStructs.DiceSimilarity(f1,f2)\n",
    "    return get_mcss_size(f1, f2, mcss_types_file)\n",
    "\n",
    "def getLigandLength(pair):\n",
    "    f1 = get_SMILE(\"AF_\" + pair.split('_lig')[0])\n",
    "    try:\n",
    "        \n",
    "        return Chem.MolFromSmiles(f1).GetNumAtoms()\n",
    "    except:\n",
    "        return np.nan\n",
    "    \n",
    "import rdkit.Chem.Descriptors as Descriptors\n",
    "    \n",
    "def getLigandDa(pair):\n",
    "    f1 = get_SMILE(\"AF_\" + pair.split('_lig')[0])\n",
    "    if Chem.MolFromSmiles(f1) is None:\n",
    "        return np.nan\n",
    "    return Descriptors.ExactMolWt(Chem.MolFromSmiles(f1))\n",
    "\n",
    "def getIsSame(pair):\n",
    "    f1 = get_SMILE(\"AF_\" + pair.split('_lig')[0])\n",
    "    f2 = get_SMILE(pair.split('-to-')[-1])\n",
    "    if f1 is None or f2 is None:\n",
    "        return np.nan\n",
    "    \n",
    "#     f1 = get_SMILE(pair.split('_lig')[0])\n",
    "    try:\n",
    "        \n",
    "        m1=Chem.MolFromSmiles(f1)\n",
    "        m2=Chem.MolFromSmiles(f2)\n",
    "    except:\n",
    "        return np.nan\n",
    "    if m1 is None or m2 is None:\n",
    "        return False\n",
    "    return Chem.MolToInchi(m1) == Chem.MolToInchi(m2) \n",
    "# # DiceSimilarity\n",
    "# rmsd_df['tanimoto']=rmsd_df['pair'].apply(getSimilarity) \n",
    "rmsd_df['mcss']= rmsd_df['pair'].apply(getMCSS)\n",
    "\n",
    "rmsd_df['mol_same']= rmsd_df['pair'].apply(getIsSame)\n",
    "# rmsd_df['len_ligand']= rmsd_df['pair'].apply(getLigandLength)\n",
    "# rmsd_df['lig_Da']= rmsd_df['pair'].apply(getLigandDa)\n",
    "\n",
    "# rmsd_df['native_ligand']= rmsd_df['pair'].apply(lambda x: get_fp(x.split('-to-')[-1]))\n",
    "# rmsd_df['tanimoto']=rmsd_df['pair'].apply(lambda x: DataStructs.FingerprintSimilarity(get_fp(x.split('_lig')[0]),get_fp(x.split('-to-')[-1]))) \n",
    "print('done')\n"
   ]
  },
  {
   "cell_type": "code",
   "execution_count": 25,
   "metadata": {},
   "outputs": [],
   "source": [
    "def get_type(x):\n",
    "    if str(x)=='nan':\n",
    "        print('here!')\n",
    "        return np.nan\n",
    "    lig = x[1].split(\"_lig\")[0]\n",
    "    prot = x[1].split(\"-to-\")[-1]\n",
    "    if \"AF_\" in prot:\n",
    "        return 'AF_dock'\n",
    "    elif 'prime_' in prot:\n",
    "        return 'prime_dock'\n",
    "    elif 'Gpcrdb' in prot:\n",
    "        return 'gpcrdb_dock'\n",
    "    if lig == prot:\n",
    "        return 'same_dock'\n",
    "    else:\n",
    "        return 'cross_dock'\n",
    "rmsd_df['type']= rmsd_df['pair_name'].apply(get_type)"
   ]
  },
  {
   "cell_type": "code",
   "execution_count": 26,
   "metadata": {},
   "outputs": [
    {
     "name": "stdout",
     "output_type": "stream",
     "text": [
      "writing to results_af_dock_min_exp.csv\n",
      "Index(['glide_rmsd', 'pair_name', 'glide_rmsd_top_2', 'glide_rmsd_top_3',\n",
      "       'glide_rmsd_top_5', 'glide_rmsd_top_10', 'glide_rmsd_top_50',\n",
      "       'glide_rmsd_top_100', 'min_pose_rmsd', 'structalign_rmsd',\n",
      "       'combind_rmsd', 'lig', 'struct', 'protein', 'pair', 'mcss', 'mol_same',\n",
      "       'type'],\n",
      "      dtype='object')\n"
     ]
    }
   ],
   "source": [
    "print('writing to ' + output_path)\n",
    "print(rmsd_df.columns)\n",
    "rmsd_df.to_csv(output_path)\n"
   ]
  },
  {
   "cell_type": "code",
   "execution_count": null,
   "metadata": {},
   "outputs": [],
   "source": []
  }
 ],
 "metadata": {
  "kernelspec": {
   "display_name": "Python 3 (ipykernel)",
   "language": "python",
   "name": "python3"
  },
  "language_info": {
   "codemirror_mode": {
    "name": "ipython",
    "version": 3
   },
   "file_extension": ".py",
   "mimetype": "text/x-python",
   "name": "python",
   "nbconvert_exporter": "python",
   "pygments_lexer": "ipython3",
   "version": "3.9.12"
  }
 },
 "nbformat": 4,
 "nbformat_minor": 4
}
